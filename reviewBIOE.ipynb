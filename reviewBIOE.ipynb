{
 "cells": [
  {
   "cell_type": "code",
   "execution_count": 17,
   "metadata": {
    "jupyter": {
     "source_hidden": true
    }
   },
   "outputs": [],
   "source": [
    "## Import Pkg\n",
    "using Plots,DataFrames"
   ]
  },
  {
   "cell_type": "markdown",
   "metadata": {},
   "source": [
    "# Review session"
   ]
  },
  {
   "cell_type": "markdown",
   "metadata": {},
   "source": [
    "# Problem 1 \n",
    "The reaction, $A + 3B \\rightarrow C$, has an equilibrium constant of 2000. During a reaction, the concentration of A is 0.01 M, of B is 0.2 M, and of C is 0.5 M. \n",
    "\n",
    "1.\tCan this be an elementary reaction?\n",
    "2.\tWhat is the reaction quotient (Q)? \n",
    "3.\tIn what direction will the reaction proceed? \n",
    "\n",
    "\n",
    "$$K = \\frac{C^c * D^d}{A^a * B^b}$$\n"
   ]
  },
  {
   "cell_type": "markdown",
   "metadata": {},
   "source": [
    "## Answer 1"
   ]
  },
  {
   "cell_type": "code",
   "execution_count": 3,
   "metadata": {},
   "outputs": [
    {
     "name": "stdout",
     "output_type": "stream",
     "text": [
      "A = 0.01\n",
      "B = 0.2\n",
      "C = 0.5\n",
      "K = 2000\n"
     ]
    },
    {
     "data": {
      "text/plain": [
       "2000"
      ]
     },
     "execution_count": 3,
     "metadata": {},
     "output_type": "execute_result"
    }
   ],
   "source": [
    "A = 0.01; B = 0.2; C = 0.5; K = 2000;\n",
    "@show A B C K"
   ]
  },
  {
   "cell_type": "markdown",
   "metadata": {},
   "source": [
    "1. A + B + B + B ==> 4 molecules are impossible to collide"
   ]
  },
  {
   "cell_type": "code",
   "execution_count": 5,
   "metadata": {},
   "outputs": [
    {
     "data": {
      "text/plain": [
       "6249.999999999998"
      ]
     },
     "execution_count": 5,
     "metadata": {},
     "output_type": "execute_result"
    }
   ],
   "source": [
    "# 2. reaction Quotient\n",
    "Q= C/(A*B^3)"
   ]
  },
  {
   "cell_type": "markdown",
   "metadata": {},
   "source": [
    "3. \n",
    "Q > K, therefore left"
   ]
  },
  {
   "cell_type": "markdown",
   "metadata": {},
   "source": [
    "# Problem 2"
   ]
  },
  {
   "cell_type": "markdown",
   "metadata": {},
   "source": [
    "A system at 275 K in state A has an enthalpy of –25 kJ and an entropy of 2 J•K –1 . In state B, it has an enthalpy of –20 kJ and an entropy of 10 J•K –1 . **_Will state A convert spontaneously to state B?_**  \n",
    "\n",
    "\n"
   ]
  },
  {
   "cell_type": "markdown",
   "metadata": {},
   "source": [
    "## Answer 2"
   ]
  },
  {
   "cell_type": "code",
   "execution_count": 4,
   "metadata": {},
   "outputs": [
    {
     "data": {
      "text/plain": [
       "ΔG (generic function with 1 method)"
      ]
     },
     "execution_count": 4,
     "metadata": {},
     "output_type": "execute_result"
    }
   ],
   "source": [
    "# Gibbs free energy\n",
    "ΔG(ΔH,T,ΔS) = ΔH -T*ΔS"
   ]
  },
  {
   "cell_type": "code",
   "execution_count": 5,
   "metadata": {},
   "outputs": [
    {
     "name": "stdout",
     "output_type": "stream",
     "text": [
      "Gibbs free energy: state A is -25550 and state B is -22750\n"
     ]
    }
   ],
   "source": [
    "T = 275; \n",
    "state_a = ΔG(-25000,T,2)\n",
    "state_b = ΔG(-20000,T,10)\n",
    "println(\"Gibbs free energy: state A is $state_a and state B is $state_b\")"
   ]
  },
  {
   "cell_type": "markdown",
   "metadata": {},
   "source": [
    "\n",
    "\n",
    "\n",
    "\n",
    "\n",
    "\n",
    "\n",
    "\n",
    "\n",
    "\n",
    "# Problem 3"
   ]
  },
  {
   "cell_type": "markdown",
   "metadata": {},
   "source": [
    "Consider the reaction, 2I + J → K, and the following table of enthalpies and entropies of formation at 298 K:  "
   ]
  },
  {
   "cell_type": "code",
   "execution_count": 6,
   "metadata": {},
   "outputs": [
    {
     "name": "stdout",
     "output_type": "stream",
     "text": [
      "df = 2×4 DataFrame\n",
      "│ Row │ ~      │ I     │ J     │ K     │\n",
      "│     │ String │ Int64 │ Int64 │ Int64 │\n",
      "├─────┼────────┼───────┼───────┼───────┤\n",
      "│ 1   │ ΔfH    │ 0     │ -30   │ -300  │\n",
      "│ 2   │ ΔfS    │ 120   │ 200   │ 60    │\n",
      "(stoich.I, stoich.J, stoich.K) = (2, 1, 1)\n"
     ]
    },
    {
     "data": {
      "text/plain": [
       "(2, 1, 1)"
      ]
     },
     "execution_count": 6,
     "metadata": {},
     "output_type": "execute_result"
    }
   ],
   "source": [
    "df = DataFrame(~ = [\"ΔfH\", \"ΔfS\"],I = [0, 120], J = [-30, 200], K =[-300, 60]);\n",
    "@show df\n",
    "\n",
    "struct Stoich \n",
    "    I:: Int\n",
    "    J:: Int\n",
    "    K:: Int\n",
    "end\n",
    "stoich = Stoich(2,1,1);\n",
    "@show stoich.I, stoich.J, stoich.K"
   ]
  },
  {
   "cell_type": "markdown",
   "metadata": {},
   "source": [
    "1.\tWhat is the standard free-energy change (∆Go ) for the reaction? \n",
    "2.\tAssume that enthalpy and entropy do not vary with temperature. At what temperature will the reaction begin to proceed spontaneously in the opposite direction (that is, at what temperature will ∆Go reactants < ∆Go products )?\n"
   ]
  },
  {
   "cell_type": "markdown",
   "metadata": {},
   "source": [
    "## Answer 3"
   ]
  },
  {
   "cell_type": "code",
   "execution_count": 8,
   "metadata": {},
   "outputs": [
    {
     "data": {
      "text/plain": [
       "ΔS (generic function with 1 method)"
      ]
     },
     "execution_count": 8,
     "metadata": {},
     "output_type": "execute_result"
    }
   ],
   "source": [
    "# 1.\n",
    "function ΔH(df,stoich)\n",
    "    ΔH = df.K[1] - stoich.I*df.I[1] - df.J[1]\n",
    "    return ΔH\n",
    "end \n",
    "\n",
    "# beware that the ΔS unit is given in J*K, need to convert to KJ\n",
    "function ΔS(df,stoich)\n",
    "    ΔS = (df.K[2] - stoich.I*df.I[2] - df.J[2])./1000\n",
    "    return ΔS\n",
    "end "
   ]
  },
  {
   "cell_type": "code",
   "execution_count": 10,
   "metadata": {},
   "outputs": [
    {
     "name": "stdout",
     "output_type": "stream",
     "text": [
      "ΔH(df, stoich) = -270\n",
      "ΔS(df, stoich) = -0.38\n",
      "The standard gibbs free energy is  ΔH - T*ΔS = -156.76 KJ\n"
     ]
    }
   ],
   "source": [
    "T = 298\n",
    "@show ΔH(df,stoich)\n",
    "@show ΔS(df,stoich)\n",
    "∆Go = ΔH(df,stoich) - T*ΔS(df,stoich)\n",
    "println(\"The standard gibbs free energy is  ΔH - T*ΔS = $∆Go KJ\")"
   ]
  },
  {
   "cell_type": "code",
   "execution_count": 11,
   "metadata": {},
   "outputs": [
    {
     "name": "stdout",
     "output_type": "stream",
     "text": [
      "The critical temperature is 710.5263157894736 K\n"
     ]
    }
   ],
   "source": [
    "# 2.calculate the critial temperature\n",
    "T_critical = ΔH(df,stoich)/ΔS(df,stoich)\n",
    "println(\"The critical temperature is $T_critical K\")"
   ]
  },
  {
   "cell_type": "markdown",
   "metadata": {},
   "source": [
    "# Problem 4"
   ]
  },
  {
   "cell_type": "markdown",
   "metadata": {},
   "source": [
    "The drug jafrasitor (molecular weight 540 daltons) binds the histone deacetylase enzyme Sir2 with a dissociation constant of 0.1 nM. **What mass** of jafrasitor should be administered to a patient with a blood volume of 5.5 L such that Sir2 is at least **91% inhibited**?  "
   ]
  },
  {
   "cell_type": "markdown",
   "metadata": {},
   "source": [
    "## Answer 4\n",
    "\n"
   ]
  },
  {
   "cell_type": "markdown",
   "metadata": {},
   "source": [
    "fractional occupancy :\n",
    "$$\n",
    "\\frac{[L]}{[L]+Kd} = 91\\% \\\\\n",
    "=> [L] = 1.01nM\\\\\n",
    "The\\ mass\\ of\\ [L] =  540\\ daltons * 1.01*1e^{-9} mol/L * 5.5L = 3e^{-6}g = 3\\mu g\\\\\n",
    "Noted: 1Da = 1g/mol\n",
    "$$"
   ]
  },
  {
   "cell_type": "markdown",
   "metadata": {},
   "source": [
    "# Problem 5"
   ]
  },
  {
   "cell_type": "markdown",
   "metadata": {},
   "source": [
    "The first and second binding sites of an allosteric dimeric protein have KD values of 100 μM and 10 mM, respectively. \n",
    "1.\tSketch the binding isotherms as log[f/(1 – f )] versus log([L]). \n",
    "2.\tWhat is the value of the Hill coefficient? Does this protein display positive, negative or no cooperativity?   \n"
   ]
  },
  {
   "cell_type": "markdown",
   "metadata": {},
   "source": [
    "## Answer 5"
   ]
  },
  {
   "cell_type": "markdown",
   "metadata": {},
   "source": [
    "![](./binding_iso.png)"
   ]
  },
  {
   "cell_type": "markdown",
   "metadata": {},
   "source": [
    "$$ n_{H} = \\frac{2}{1 + \\sqrt{\\frac{K_{D2}}{K_{D1}}}} $$"
   ]
  },
  {
   "cell_type": "code",
   "execution_count": 24,
   "metadata": {},
   "outputs": [
    {
     "name": "stdout",
     "output_type": "stream",
     "text": [
      "The hill coefficient is n_H = 0.18181818181818182 < 1, therefore negatively cooperative\n",
      "the reaction is NEGATIVELY cooperative, meaning a ligand binding to a site DECREASES the ligand affinity at other binding sites.\n"
     ]
    }
   ],
   "source": [
    "nh(Kd1, Kd2) = 2/(1+ sqrt(Kd2/Kd1))\n",
    "nH = nh(1e-4,1e-2)\n",
    "println(\"The hill coefficient is n_H = $nH < 1, therefore negatively cooperative\")\n",
    "println(\"the reaction is NEGATIVELY cooperative, meaning a ligand binding to a site DECREASES the ligand affinity at other binding sites.\")"
   ]
  },
  {
   "cell_type": "markdown",
   "metadata": {},
   "source": [
    "# Problem 6"
   ]
  },
  {
   "cell_type": "markdown",
   "metadata": {},
   "source": [
    "The table below lists initial velocities measured for an enzymatic reaction at different substrate concentrations in the presence and absence of an inhibitor. The enzyme concentration is identical in both reactions.  "
   ]
  },
  {
   "cell_type": "code",
   "execution_count": 12,
   "metadata": {
    "jupyter": {
     "source_hidden": true
    }
   },
   "outputs": [
    {
     "data": {
      "text/html": [
       "<table class=\"data-frame\"><thead><tr><th></th><th>S</th><th>ν_no_inhitor</th><th>ν_inhitor</th></tr><tr><th></th><th>Int64</th><th>Float64</th><th>Float64</th></tr></thead><tbody><p>5 rows × 3 columns</p><tr><th>1</th><td>1</td><td>2.5</td><td>1.11</td></tr><tr><th>2</th><td>2</td><td>4.0</td><td>2.0</td></tr><tr><th>3</th><td>5</td><td>6.25</td><td>3.85</td></tr><tr><th>4</th><td>10</td><td>7.69</td><td>5.56</td></tr><tr><th>5</th><td>20</td><td>8.7</td><td>7.14</td></tr></tbody></table>"
      ],
      "text/latex": [
       "\\begin{tabular}{r|ccc}\n",
       "\t& S & ν\\_no\\_inhitor & ν\\_inhitor\\\\\n",
       "\t\\hline\n",
       "\t& Int64 & Float64 & Float64\\\\\n",
       "\t\\hline\n",
       "\t1 & 1 & 2.5 & 1.11 \\\\\n",
       "\t2 & 2 & 4.0 & 2.0 \\\\\n",
       "\t3 & 5 & 6.25 & 3.85 \\\\\n",
       "\t4 & 10 & 7.69 & 5.56 \\\\\n",
       "\t5 & 20 & 8.7 & 7.14 \\\\\n",
       "\\end{tabular}\n"
      ],
      "text/plain": [
       "5×3 DataFrame\n",
       "│ Row │ S     │ ν_no_inhitor │ ν_inhitor │\n",
       "│     │ \u001b[90mInt64\u001b[39m │ \u001b[90mFloat64\u001b[39m      │ \u001b[90mFloat64\u001b[39m   │\n",
       "├─────┼───────┼──────────────┼───────────┤\n",
       "│ 1   │ 1     │ 2.5          │ 1.11      │\n",
       "│ 2   │ 2     │ 4.0          │ 2.0       │\n",
       "│ 3   │ 5     │ 6.25         │ 3.85      │\n",
       "│ 4   │ 10    │ 7.69         │ 5.56      │\n",
       "│ 5   │ 20    │ 8.7          │ 7.14      │"
      ]
     },
     "execution_count": 12,
     "metadata": {},
     "output_type": "execute_result"
    }
   ],
   "source": [
    "df2 = DataFrame(S=[1,2,5,10,20],ν_no_inhitor = [2.5,4,6.25,7.69,8.7],ν_inhitor = [1.11,2,3.85,5.56,7.14])"
   ]
  },
  {
   "cell_type": "markdown",
   "metadata": {},
   "source": [
    "![](p6.png)"
   ]
  },
  {
   "cell_type": "markdown",
   "metadata": {},
   "source": [
    "## Answer 6"
   ]
  },
  {
   "cell_type": "markdown",
   "metadata": {},
   "source": [
    "1. Graph a Lineweaver–Burk plot for each set of data.\n",
    "The plot provides a useful graphical method for analysis of the Michaelis–Menten equation, as it is difficult to determine precisely the Vmax of an enzyme-catalysed reaction:\n",
    "\n",
    "$$ V = \\frac{V_{max}[S]}{K_{m} +[S]} $$\n",
    "\n",
    "Taking the reciprocal gives\\\n",
    "$$ \\frac{1}{V}  = \\frac{K_{m} +[S]}{V_{max}[S]} = \\frac{K_{m}}{V_{max}}\\frac{1}{[S]} + \\frac{1}{V_{max}} $$"
   ]
  },
  {
   "cell_type": "code",
   "execution_count": 49,
   "metadata": {},
   "outputs": [],
   "source": [
    "# scatter(1/df2.S, 1/df2.ν_inhitor)"
   ]
  },
  {
   "cell_type": "code",
   "execution_count": 31,
   "metadata": {},
   "outputs": [
    {
     "name": "stdout",
     "output_type": "stream",
     "text": [
      "No inhibitor case: Vmax: = 10.0, Km =  3.0 \n"
     ]
    }
   ],
   "source": [
    "# no inhibitor case\n",
    "V_max_ni = 1/0.1\n",
    "Km_ni = 0.3*V_max_ni\n",
    "println(\"No inhibitor case: Vmax: = $V_max_ni, Km =  $Km_ni \")"
   ]
  },
  {
   "cell_type": "code",
   "execution_count": 32,
   "metadata": {},
   "outputs": [
    {
     "name": "stdout",
     "output_type": "stream",
     "text": [
      "inhibitor case: Vmax: = 10.030090270812437, Km =  8.034102306920762 \n"
     ]
    }
   ],
   "source": [
    "# inhibitor case\n",
    "V_max_i = 1/0.0997\n",
    "Km_i = 0.801*V_max_i\n",
    "println(\"inhibitor case: Vmax: = $V_max_i, Km =  $Km_i \")"
   ]
  },
  {
   "cell_type": "markdown",
   "metadata": {},
   "source": [
    "- What is the inhibition mechanism? \n",
    "- answer:\\\n",
    "competitive because Vmax is unaffected by inhibition"
   ]
  },
  {
   "cell_type": "markdown",
   "metadata": {},
   "source": [
    "- If the concentration of inhibitor is 100 nM, what is the value of KI ?\n",
    "- answer:\\\n",
    "$$V = \\frac{Vmax}{\\alpha' + \\frac{\\alpha Km}{[S]_0}}$$"
   ]
  },
  {
   "cell_type": "markdown",
   "metadata": {},
   "source": [
    "![](rate.png)"
   ]
  },
  {
   "cell_type": "code",
   "execution_count": 13,
   "metadata": {},
   "outputs": [
    {
     "name": "stdout",
     "output_type": "stream",
     "text": [
      "R(1, 0.1, 8.03, 80.3) = 1.1095132743362832\n",
      "K_I is 80.3\n"
     ]
    }
   ],
   "source": [
    "R(S,I,km,ki) = 10.03*S/(km*(1+S/km + I/ki))\n",
    "\n",
    "@show R(1,0.1,8.03,80.3)\n",
    "\n",
    "println(\"K_I is 80.3\")"
   ]
  },
  {
   "cell_type": "markdown",
   "metadata": {},
   "source": [
    "# Problem 7"
   ]
  },
  {
   "cell_type": "markdown",
   "metadata": {},
   "source": [
    "The reaction 2H2O2(aq)→H2O(l)+O2(g) is catalyzed by Br− ions. If the mechanism is as shown below\n",
    "give the predicted order of the reaction with respect to the various participants.\n"
   ]
  },
  {
   "cell_type": "markdown",
   "metadata": {},
   "source": [
    "![](p7.png)"
   ]
  },
  {
   "cell_type": "markdown",
   "metadata": {},
   "source": [
    "## Answer 7"
   ]
  },
  {
   "cell_type": "markdown",
   "metadata": {},
   "source": [
    "[Good ref for Pre-equilibrium Approximation vs steady state approximation](https://chem.libretexts.org/Bookshelves/Physical_and_Theoretical_Chemistry_Textbook_Maps/Supplemental_Modules_(Physical_and_Theoretical_Chemistry)/Kinetics/Rate_Laws/Reaction_Mechanisms/Pre-equilibrium_Approximation)\n",
    "\n",
    "rate determineing step is the first reaction and it is slow dynamics and the second reaction is fast dynamics\n",
    "Therefore, we will use the steady state approximation for the intermediate to calculate the overal reaction rate.\n",
    "\n",
    "$$\n",
    "\\frac{d[BrO]}{dt} = k1[H2O2][Br] - k2[BrO][H2O2] = 0 \\\\\n",
    "k1[H2O2][Br] = k2[BrO][H2O2]\\\\\n",
    "[BrO] = \\frac{k1[H2O2][Br]}{k2[H2O2]}\\\\\n",
    "$$\n",
    "\n",
    "Therefore, we have the overall reaction rate:\n",
    "\n",
    "$$\n",
    "\\frac{d[H2o][O2]}{dt} = k2[BrO][H2O2] = k1[H2O2][Br]\\\\\n",
    "$$\n"
   ]
  },
  {
   "cell_type": "markdown",
   "metadata": {},
   "source": [
    "# Problem 8"
   ]
  },
  {
   "cell_type": "markdown",
   "metadata": {},
   "source": [
    "You have a batch reactor in which a second order irreversible elementary reaction competes in parallel with a first order elementary reaction: \\\n",
    "2A->B with rate constant k1\\\n",
    "A->C with rate constant k2\n",
    "\n",
    "\n",
    "B is the desired product and C is the undesired product.\n",
    "1. Develop an expression for the instantaneous selectivity (SB/C).\n",
    "2. What process parameters (e.g. batch time) would you have control over in order to favor production of B over production of C?\n",
    "3. What relative levels would you want to set these parameters (e.g. high or low)?\n"
   ]
  },
  {
   "cell_type": "markdown",
   "metadata": {},
   "source": [
    "## Answer 8"
   ]
  },
  {
   "cell_type": "markdown",
   "metadata": {},
   "source": [
    "1. \n",
    "$$ \\begin{equation}\n",
    "{\\Large\\frac{\\frac{2*d[B]}{dt}}{\\frac{d[C]}{dt}} = \\frac{K_1*[A]^2}{K_2*[A]} = \\frac{K_1*[A]}{K_2}}\n",
    "\\end{equation}\n",
    "$$\n"
   ]
  },
  {
   "cell_type": "markdown",
   "metadata": {},
   "source": [
    "2. Concentration"
   ]
  },
  {
   "cell_type": "markdown",
   "metadata": {},
   "source": [
    "3. keep [A] as high as possible"
   ]
  },
  {
   "cell_type": "markdown",
   "metadata": {},
   "source": [
    "# Problem 9"
   ]
  },
  {
   "cell_type": "markdown",
   "metadata": {},
   "source": [
    "What is the purpose of a Scatchard plot? When is it appropriate to use it and when is it not?\n"
   ]
  },
  {
   "cell_type": "markdown",
   "metadata": {},
   "source": [
    "1. The Scatchard equation is an equation used in molecular biology to calculate the affinity and number of binding sites of a receptor for a ligand\n",
    "2. Scatchard analysis makes it possible to estimate the value of KD when the concentration of the receptor is unknown\n",
    "3. Scatchard analysis can be applied to unpurified proteins(there are many situations that [protein] is not directly measurable)\n"
   ]
  },
  {
   "cell_type": "markdown",
   "metadata": {},
   "source": [
    "![](scatch.png)"
   ]
  },
  {
   "cell_type": "markdown",
   "metadata": {},
   "source": [
    "![](scatch2.png)"
   ]
  },
  {
   "cell_type": "markdown",
   "metadata": {},
   "source": [
    "# Problem 10"
   ]
  },
  {
   "cell_type": "markdown",
   "metadata": {},
   "source": [
    "What is the main purpose of a Hill Plot? What two parameters can be obtained from a Hill Plot?"
   ]
  },
  {
   "cell_type": "markdown",
   "metadata": {},
   "source": [
    "## Answer 10"
   ]
  },
  {
   "cell_type": "markdown",
   "metadata": {},
   "source": [
    "1. Measure hill coefficient n : (cooperativity degree)\n",
    "2. Measure the dissociation constant (an equilibrium constant) KD for allosteric protein\n",
    "- Below are ref from wiki"
   ]
  },
  {
   "cell_type": "markdown",
   "metadata": {},
   "source": [
    "![](./hill.png)"
   ]
  },
  {
   "cell_type": "markdown",
   "metadata": {},
   "source": [
    "Binding curves showing the characteristically sigmoidal curves generated by using the Hill-Langmuir equation to model cooperative binding. Each curve corresponds to a different Hill coefficient, labeled to the curve's right. The vertical axis displays the proportion of the total number of receptors that have been bound by a ligand. The horizontal axis is the concentration of the ligand. As the Hill coefficient is increased, the saturation curve becomes steeper."
   ]
  },
  {
   "cell_type": "markdown",
   "metadata": {},
   "source": [
    "![](./hill_derive.png)"
   ]
  },
  {
   "cell_type": "markdown",
   "metadata": {},
   "source": [
    "![](./hill_plot.png)"
   ]
  },
  {
   "cell_type": "code",
   "execution_count": null,
   "metadata": {},
   "outputs": [],
   "source": []
  }
 ],
 "metadata": {
  "kernelspec": {
   "display_name": "Julia 1.4.0",
   "language": "julia",
   "name": "julia-1.4"
  },
  "language_info": {
   "file_extension": ".jl",
   "mimetype": "application/julia",
   "name": "julia",
   "version": "1.4.1"
  }
 },
 "nbformat": 4,
 "nbformat_minor": 4
}
